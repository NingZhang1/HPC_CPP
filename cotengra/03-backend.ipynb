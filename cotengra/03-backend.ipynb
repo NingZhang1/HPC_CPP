{
 "cells": [
  {
   "cell_type": "code",
   "execution_count": 5,
   "metadata": {},
   "outputs": [
    {
     "ename": "TypeError",
     "evalue": "HyperOptimizer.search() missing 1 required positional argument: 'size_dict'",
     "output_type": "error",
     "traceback": [
      "\u001b[0;31m---------------------------------------------------------------------------\u001b[0m",
      "\u001b[0;31mTypeError\u001b[0m                                 Traceback (most recent call last)",
      "Cell \u001b[0;32mIn[5], line 29\u001b[0m\n\u001b[1;32m     19\u001b[0m \u001b[38;5;66;03m# Create a ContractionTree using Cotengra\u001b[39;00m\n\u001b[1;32m     20\u001b[0m optimizer \u001b[38;5;241m=\u001b[39m ctg\u001b[38;5;241m.\u001b[39mHyperOptimizer(\n\u001b[1;32m     21\u001b[0m     methods\u001b[38;5;241m=\u001b[39m[\u001b[38;5;124m\"\u001b[39m\u001b[38;5;124mkahypar\u001b[39m\u001b[38;5;124m\"\u001b[39m],\n\u001b[1;32m     22\u001b[0m     max_repeats\u001b[38;5;241m=\u001b[39m\u001b[38;5;241m128\u001b[39m,\n\u001b[0;32m   (...)\u001b[0m\n\u001b[1;32m     26\u001b[0m     progbar\u001b[38;5;241m=\u001b[39m\u001b[38;5;28;01mTrue\u001b[39;00m,\n\u001b[1;32m     27\u001b[0m )\n\u001b[0;32m---> 29\u001b[0m tree \u001b[38;5;241m=\u001b[39m \u001b[43moptimizer\u001b[49m\u001b[38;5;241;43m.\u001b[39;49m\u001b[43msearch\u001b[49m\u001b[43m(\u001b[49m\u001b[43mtensors\u001b[49m\u001b[43m,\u001b[49m\u001b[43m \u001b[49m\u001b[43mindices\u001b[49m\u001b[43m)\u001b[49m\n\u001b[1;32m     31\u001b[0m \u001b[38;5;66;03m# Perform the contraction\u001b[39;00m\n\u001b[1;32m     32\u001b[0m result \u001b[38;5;241m=\u001b[39m tree\u001b[38;5;241m.\u001b[39mcontract()\n",
      "\u001b[0;31mTypeError\u001b[0m: HyperOptimizer.search() missing 1 required positional argument: 'size_dict'"
     ]
    }
   ],
   "source": [
    "import cotengra as ctg\n",
    "import torch\n",
    "\n",
    "# Define the tensors using PyTorch\n",
    "tensor1 = torch.randn(2, 3, 4)\n",
    "tensor2 = torch.randn(4, 5)\n",
    "tensor3 = torch.randn(3, 5, 6)\n",
    "\n",
    "# Create a list of tensors\n",
    "tensors = [tensor1, tensor2, tensor3]\n",
    "\n",
    "# Specify the contraction indices\n",
    "indices = [\n",
    "    (1, 2),  # Indices for tensor1\n",
    "    (2, 1),  # Indices for tensor2\n",
    "    (1, 0, 2)  # Indices for tensor3\n",
    "]\n",
    "\n",
    "# Create a ContractionTree using Cotengra\n",
    "optimizer = ctg.HyperOptimizer(\n",
    "    methods=[\"kahypar\"],\n",
    "    max_repeats=128,\n",
    "    parallel=True,\n",
    "    minimize=\"flops\",\n",
    "    #target_size=2**30,\n",
    "    progbar=True,\n",
    ")\n",
    "\n",
    "tree = optimizer.search(tensors, indices)\n",
    "\n",
    "# Perform the contraction\n",
    "result = tree.contract()\n",
    "print(result)"
   ]
  }
 ],
 "metadata": {
  "kernelspec": {
   "display_name": "pyscf_isdf",
   "language": "python",
   "name": "python3"
  },
  "language_info": {
   "codemirror_mode": {
    "name": "ipython",
    "version": 3
   },
   "file_extension": ".py",
   "mimetype": "text/x-python",
   "name": "python",
   "nbconvert_exporter": "python",
   "pygments_lexer": "ipython3",
   "version": "3.10.13"
  }
 },
 "nbformat": 4,
 "nbformat_minor": 2
}
