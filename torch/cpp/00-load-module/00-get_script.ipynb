{
 "cells": [
  {
   "cell_type": "code",
   "execution_count": 4,
   "metadata": {},
   "outputs": [],
   "source": [
    "import torch\n",
    "import torchvision\n",
    "\n",
    "# class MyModule(torch.nn.Module):\n",
    "#     def __init__(self, N, M):\n",
    "#         super(MyModule, self).__init__()\n",
    "#         self.weight = torch.nn.Parameter(torch.rand(N, M))\n",
    "# \n",
    "#     def forward(self, input):\n",
    "#         if input.sum() > 0:\n",
    "#           output = self.weight.mv(input)\n",
    "#         else:\n",
    "#           output = self.weight + input\n",
    "#         return output\n",
    "\n",
    "# my_module = MyModule(10,20)\n",
    "\n",
    "model = torchvision.models.resnet18()\n",
    "example = torch.rand(1, 3, 224, 224)\n",
    "\n",
    "# sm = torch.jit.script(my_module)\n",
    "\n",
    "traced_script_module = torch.jit.trace(model, example)\n",
    "traced_script_module.save(\"my_module_model.pt\")"
   ]
  },
  {
   "cell_type": "markdown",
   "metadata": {},
   "source": [
    "mkdir build\n",
    "cd build\n",
    "cmake -DCMAKE_PREFIX_PATH=/path/to/libtorch ..\n",
    "cmake --build . --config Release"
   ]
  }
 ],
 "metadata": {
  "kernelspec": {
   "display_name": "pyscf_isdf",
   "language": "python",
   "name": "python3"
  },
  "language_info": {
   "codemirror_mode": {
    "name": "ipython",
    "version": 3
   },
   "file_extension": ".py",
   "mimetype": "text/x-python",
   "name": "python",
   "nbconvert_exporter": "python",
   "pygments_lexer": "ipython3",
   "version": "3.10.13"
  }
 },
 "nbformat": 4,
 "nbformat_minor": 2
}
