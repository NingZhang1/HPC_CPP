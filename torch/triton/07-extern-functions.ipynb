{
  "cells": [
    {
      "cell_type": "markdown",
      "metadata": {},
      "source": [
        "\n",
        "# Libdevice (`tl.extra.libdevice`) function\n",
        "Triton can invoke a custom function from an external library.\n",
        "In this example, we will use the `libdevice` library to apply `asin` on a tensor.\n",
        "Please refer to https://docs.nvidia.com/cuda/libdevice-users-guide/index.html (CUDA) and/or https://github.com/ROCm/llvm-project/tree/amd-staging/amd/device-libs/ocml/src (HIP) regarding the semantics of all available libdevice functions.\n",
        "In `libdevice.py`, we try to aggregate functions with the same computation but different data types together.\n",
        "For example, both `__nv_asin` and `__nv_asinf` calculate the principal value of the arc sine of the input, but `__nv_asin` operates on `double` and `__nv_asinf` operates on `float`.\n",
        "Triton automatically selects the correct underlying device function to invoke based on input and output types.\n"
      ]
    },
    {
      "cell_type": "markdown",
      "metadata": {},
      "source": [
        "## asin Kernel\n",
        "\n"
      ]
    },
    {
      "cell_type": "code",
      "execution_count": 10,
      "metadata": {
        "collapsed": false
      },
      "outputs": [],
      "source": [
        "import torch\n",
        "\n",
        "import triton\n",
        "import triton.language as tl\n",
        "import inspect\n",
        "import os\n",
        "from triton.language.extra import libdevice\n",
        "\n",
        "from pathlib import Path\n",
        "\n",
        "\n",
        "@triton.jit\n",
        "def asin_kernel(\n",
        "    x_ptr,\n",
        "    y_ptr,\n",
        "    n_elements,\n",
        "    BLOCK_SIZE: tl.constexpr,\n",
        "):\n",
        "    pid = tl.program_id(axis=0)\n",
        "    block_start = pid * BLOCK_SIZE\n",
        "    offsets = block_start + tl.arange(0, BLOCK_SIZE)\n",
        "    mask = offsets < n_elements\n",
        "    x = tl.load(x_ptr + offsets, mask=mask)\n",
        "    x = libdevice.asin(x)\n",
        "    tl.store(y_ptr + offsets, x, mask=mask)"
      ]
    },
    {
      "cell_type": "markdown",
      "metadata": {},
      "source": [
        "## Using the default libdevice library path\n",
        "We can use the default libdevice library path encoded in `triton/language/math.py`\n",
        "\n"
      ]
    },
    {
      "cell_type": "code",
      "execution_count": 11,
      "metadata": {
        "collapsed": false
      },
      "outputs": [
        {
          "name": "stdout",
          "output_type": "stream",
          "text": [
            "tensor([0.4105, 0.5430, 0.0249,  ..., 0.2494, 0.4827, 0.7589], device='cuda:0')\n",
            "tensor([0.4105, 0.5430, 0.0249,  ..., 0.2494, 0.4827, 0.7589], device='cuda:0')\n",
            "The maximum difference between torch and triton is 2.384185791015625e-07\n"
          ]
        }
      ],
      "source": [
        "torch.manual_seed(0)\n",
        "size = 98432\n",
        "x = torch.rand(size, device='cuda')\n",
        "output_triton = torch.zeros(size, device='cuda')\n",
        "output_torch = torch.asin(x)\n",
        "assert x.is_cuda and output_triton.is_cuda\n",
        "n_elements = output_torch.numel()\n",
        "grid = lambda meta: (triton.cdiv(n_elements, meta['BLOCK_SIZE']), )\n",
        "asin_kernel[grid](x, output_triton, n_elements, BLOCK_SIZE=1024)\n",
        "print(output_torch)\n",
        "print(output_triton)\n",
        "print(f'The maximum difference between torch and triton is '\n",
        "      f'{torch.max(torch.abs(output_torch - output_triton))}')"
      ]
    },
    {
      "cell_type": "markdown",
      "metadata": {},
      "source": [
        "## Customize the libdevice library path\n",
        "We can also customize the libdevice library path by passing the path to the `libdevice` library to the `asin` kernel.\n",
        "\n"
      ]
    },
    {
      "cell_type": "code",
      "execution_count": 12,
      "metadata": {
        "collapsed": false
      },
      "outputs": [
        {
          "name": "stdout",
          "output_type": "stream",
          "text": [
            "tensor([0.4105, 0.5430, 0.0249,  ..., 0.2494, 0.4827, 0.7589], device='cuda:0')\n",
            "tensor([0.4105, 0.5430, 0.0249,  ..., 0.2494, 0.4827, 0.7589], device='cuda:0')\n",
            "The maximum difference between torch and triton is 2.384185791015625e-07\n"
          ]
        }
      ],
      "source": [
        "def is_cuda():\n",
        "    return triton.runtime.driver.active.get_current_target().backend == \"cuda\"\n",
        "\n",
        "\n",
        "def is_hip():\n",
        "    return triton.runtime.driver.active.get_current_target().backend == \"hip\"\n",
        "\n",
        "\n",
        "current_file = inspect.getfile(inspect.currentframe())\n",
        "current_dir = Path(os.path.dirname(os.path.abspath(current_file)))\n",
        "\n",
        "if is_cuda():\n",
        "    # libdir = current_dir.parent.parent / 'third_party/nvidia/backend/lib'\n",
        "    libdir = \"/home/ningzhangcaltech/Github_Repo/triton/third_party/nvidia/backend/lib\"\n",
        "    # extern_libs = {'libdevice': str(libdir / 'libdevice.10.bc')}\n",
        "    extern_libs = {'libdevice': '/home/ningzhangcaltech/Github_Repo/triton/third_party/nvidia/backend/lib/libdevice.10.bc'}\n",
        "elif is_hip():\n",
        "    libdir = current_dir.parent.parent / 'third_party/amd/backend/lib'\n",
        "    extern_libs = {}\n",
        "    libs = [\"ocml\", \"ockl\"]\n",
        "    for lib in libs:\n",
        "        extern_libs[lib] = str(libdir / f'{lib}.bc')\n",
        "else:\n",
        "    raise RuntimeError('unknown backend')\n",
        "\n",
        "output_triton = torch.empty_like(x)\n",
        "asin_kernel[grid](x, output_triton, n_elements, BLOCK_SIZE=1024, extern_libs=extern_libs)\n",
        "print(output_torch)\n",
        "print(output_triton)\n",
        "print(f'The maximum difference between torch and triton is '\n",
        "      f'{torch.max(torch.abs(output_torch - output_triton))}')"
      ]
    }
  ],
  "metadata": {
    "kernelspec": {
      "display_name": "Python 3",
      "language": "python",
      "name": "python3"
    },
    "language_info": {
      "codemirror_mode": {
        "name": "ipython",
        "version": 3
      },
      "file_extension": ".py",
      "mimetype": "text/x-python",
      "name": "python",
      "nbconvert_exporter": "python",
      "pygments_lexer": "ipython3",
      "version": "3.10.13"
    }
  },
  "nbformat": 4,
  "nbformat_minor": 0
}
