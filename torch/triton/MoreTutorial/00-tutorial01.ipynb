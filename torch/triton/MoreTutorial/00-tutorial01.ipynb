{
 "cells": [
  {
   "cell_type": "code",
   "execution_count": 3,
   "metadata": {},
   "outputs": [],
   "source": [
    "# https://superjomn.github.io/posts/triton-mlir-publish/"
   ]
  },
  {
   "cell_type": "code",
   "execution_count": 4,
   "metadata": {},
   "outputs": [],
   "source": [
    "import torch\n",
    "\n",
    "import triton\n",
    "import triton.language as tl"
   ]
  },
  {
   "cell_type": "code",
   "execution_count": 6,
   "metadata": {},
   "outputs": [
    {
     "name": "stdout",
     "output_type": "stream",
     "text": [
      "<class 'triton.runtime.jit.JITFunction'>\n"
     ]
    }
   ],
   "source": [
    "@triton.jit\n",
    "def add_kernel(x_ptr, y_ptr, output_ptr, N,\n",
    "               BLOCK_SIZE: tl.constexpr):\n",
    "    pid = tl.program_id(0)\n",
    "    block_start = pid * BLOCK_SIZE\n",
    "    offsets = block_start + tl.arange(0, BLOCK_SIZE)\n",
    "    mask = offsets < N\n",
    "    x = tl.load(x_ptr + offsets, mask=mask)\n",
    "    y = tl.load(y_ptr + offsets, mask=mask)\n",
    "    output = x + y\n",
    "    tl.store(output_ptr+offsets, output, mask=mask)\n",
    "\n",
    "# x, y are torch.Tensor\n",
    "\n",
    "n_elements = 65536\n",
    "x = torch.rand(n_elements, device='cuda')\n",
    "y = torch.rand(n_elements, device='cuda')\n",
    "output = torch.rand(n_elements, device='cuda')\n",
    "\n",
    "grid = lambda meta: (triton.cdiv(n_elements, meta['BLOCK_SIZE']),)\n",
    "add_kernel[grid](x, y, output, n_elements, BLOCK_SIZE=1024)\n",
    "\n",
    "print(add_kernel.__class__)"
   ]
  }
 ],
 "metadata": {
  "kernelspec": {
   "display_name": "pyscf_isdf",
   "language": "python",
   "name": "python3"
  },
  "language_info": {
   "codemirror_mode": {
    "name": "ipython",
    "version": 3
   },
   "file_extension": ".py",
   "mimetype": "text/x-python",
   "name": "python",
   "nbconvert_exporter": "python",
   "pygments_lexer": "ipython3",
   "version": "3.10.13"
  }
 },
 "nbformat": 4,
 "nbformat_minor": 2
}
