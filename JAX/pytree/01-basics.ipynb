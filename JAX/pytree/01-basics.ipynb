{
 "cells": [
  {
   "cell_type": "markdown",
   "metadata": {},
   "source": [
    "# Basics of pytree"
   ]
  },
  {
   "cell_type": "code",
   "execution_count": 58,
   "metadata": {},
   "outputs": [
    {
     "name": "stdout",
     "output_type": "stream",
     "text": [
      "<class 'list'>\n",
      "[1, 'a', <object object at 0x7f0238394720>]   has 3 leaves: [1, 'a', <object object at 0x7f0238394720>]\n",
      "<class 'tuple'>\n",
      "(1, (2, 3), ())                               has 3 leaves: [1, 2, 3]\n",
      "<class 'list'>\n",
      "[1, {'k1': 2, 'k2': (3, 4)}, 5]               has 5 leaves: [1, 2, 3, 4, 5]\n",
      "<class 'dict'>\n",
      "{'a': 2, 'b': (2, 3)}                         has 3 leaves: [2, 2, 3]\n",
      "<class 'jaxlib.xla_extension.ArrayImpl'>\n",
      "Array([1, 2, 3], dtype=int32)                 has 1 leaves: [Array([1, 2, 3], dtype=int32)]\n"
     ]
    }
   ],
   "source": [
    "import jax\n",
    "import jax.numpy as jnp\n",
    "\n",
    "import jax.tree_util as tree_util\n",
    "\n",
    "example_trees = [\n",
    "    [1, 'a', object()],\n",
    "    (1, (2, 3), ()),\n",
    "    [1, {'k1': 2, 'k2': (3, 4)}, 5],\n",
    "    {'a': 2, 'b': (2, 3)},\n",
    "    jnp.array([1, 2, 3]),\n",
    "]\n",
    "\n",
    "# Print how many leaves the pytrees have.\n",
    "for pytree in example_trees:\n",
    "  # This `jax.tree.leaves()` method extracts the flattened leaves from the pytrees.\n",
    "  leaves = tree_util.tree_leaves(pytree) \n",
    "  print(pytree.__class__)\n",
    "  print(f\"{repr(pytree):<45} has {len(leaves)} leaves: {leaves}\")"
   ]
  },
  {
   "cell_type": "markdown",
   "metadata": {},
   "source": [
    "The most commonly used pytree function is `tree_util.tree_map`. It works analogously to Python’s native map, but transparently operates over entire pytrees."
   ]
  },
  {
   "cell_type": "code",
   "execution_count": 59,
   "metadata": {},
   "outputs": [
    {
     "data": {
      "text/plain": [
       "[[2, 4, 6], [2, 4], [2, 4, 6, 8]]"
      ]
     },
     "execution_count": 59,
     "metadata": {},
     "output_type": "execute_result"
    }
   ],
   "source": [
    "list_of_lists = [\n",
    "    [1, 2, 3],\n",
    "    [1, 2],\n",
    "    [1, 2, 3, 4]\n",
    "]\n",
    "\n",
    "tree_util.tree_map(lambda x: x*2, list_of_lists) #"
   ]
  },
  {
   "cell_type": "markdown",
   "metadata": {},
   "source": [
    "# Customized pynode "
   ]
  },
  {
   "cell_type": "markdown",
   "metadata": {},
   "source": [
    "The following are examples showing how to register a new pytree"
   ]
  },
  {
   "cell_type": "code",
   "execution_count": 60,
   "metadata": {},
   "outputs": [
    {
     "data": {
      "text/plain": [
       "[<__main__.Special at 0x7f023833b010>, <__main__.Special at 0x7f023833bbe0>]"
      ]
     },
     "execution_count": 60,
     "metadata": {},
     "output_type": "execute_result"
    }
   ],
   "source": [
    "class Special(object):\n",
    "  def __init__(self, x, y):\n",
    "    self.x = x\n",
    "    self.y = y\n",
    "\n",
    "tree_util.tree_leaves([\n",
    "    Special(0, 1),\n",
    "    Special(2, 4),\n",
    "])\n"
   ]
  },
  {
   "cell_type": "code",
   "execution_count": 61,
   "metadata": {},
   "outputs": [],
   "source": [
    "# tree_util.tree_map(lambda x: x + 1,\n",
    "#   [\n",
    "#     Special(0, 1),\n",
    "#     Special(2, 4)\n",
    "#   ]) # this will report an ever "
   ]
  },
  {
   "cell_type": "code",
   "execution_count": 62,
   "metadata": {},
   "outputs": [],
   "source": [
    "#from jax.tree_util import register_pytree_node\n",
    "\n",
    "class RegisteredSpecial(Special):\n",
    "  def __repr__(self):\n",
    "    return \"RegisteredSpecial(x={}, y={})\".format(self.x, self.y)\n",
    "\n",
    "def special_flatten(v):\n",
    "  \"\"\"Specifies a flattening recipe.\n",
    "\n",
    "  Params:\n",
    "    v: The value of the registered type to flatten.\n",
    "  Returns:\n",
    "    A pair of an iterable with the children to be flattened recursively,\n",
    "    and some opaque auxiliary data to pass back to the unflattening recipe.\n",
    "    The auxiliary data is stored in the treedef for use during unflattening.\n",
    "    The auxiliary data could be used, for example, for dictionary keys.\n",
    "  \"\"\"\n",
    "  children = (v.x, v.y)\n",
    "  aux_data = None\n",
    "  return (children, aux_data)\n",
    "\n",
    "def special_unflatten(aux_data, children):\n",
    "  \"\"\"Specifies an unflattening recipe.\n",
    "\n",
    "  Params:\n",
    "    aux_data: The opaque data that was specified during flattening of the\n",
    "      current tree definition.\n",
    "    children: The unflattened children\n",
    "\n",
    "  Returns:\n",
    "    A reconstructed object of the registered type, using the specified\n",
    "    children and auxiliary data.\n",
    "  \"\"\"\n",
    "  return RegisteredSpecial(*children)\n",
    "\n",
    "# Global registration\n",
    "tree_util.register_pytree_node(\n",
    "    RegisteredSpecial,\n",
    "    special_flatten,    # Instruct JAX what are the children nodes.\n",
    "    special_unflatten   # Instruct JAX how to pack back into a `RegisteredSpecial`.\n",
    ")"
   ]
  },
  {
   "cell_type": "code",
   "execution_count": 63,
   "metadata": {},
   "outputs": [
    {
     "data": {
      "text/plain": [
       "[RegisteredSpecial(x=1, y=2), RegisteredSpecial(x=3, y=5)]"
      ]
     },
     "execution_count": 63,
     "metadata": {},
     "output_type": "execute_result"
    }
   ],
   "source": [
    "tree_util.tree_map(lambda x: x + 1,\n",
    "  [\n",
    "   RegisteredSpecial(0, 1),\n",
    "   RegisteredSpecial(2, 4),\n",
    "  ])"
   ]
  },
  {
   "cell_type": "markdown",
   "metadata": {},
   "source": [
    "Modern Python comes equipped with helpful tools to make defining containers easier. Some will work with JAX out-of-the-box, but others require more care.\n",
    "\n",
    "For instance, a Python `NamedTuple` subclass doesn’t need to be registered to be considered a pytree node type:"
   ]
  },
  {
   "cell_type": "code",
   "execution_count": 64,
   "metadata": {},
   "outputs": [
    {
     "data": {
      "text/plain": [
       "['Alice', 1, 2, 3, 'Bob', 4, 5, 6]"
      ]
     },
     "execution_count": 64,
     "metadata": {},
     "output_type": "execute_result"
    }
   ],
   "source": [
    "from typing import NamedTuple, Any\n",
    "\n",
    "class MyOtherContainer(NamedTuple):\n",
    "  name: str\n",
    "  a: Any\n",
    "  b: Any\n",
    "  c: Any\n",
    "\n",
    "# NamedTuple subclasses are handled as pytree nodes, so\n",
    "# this will work out-of-the-box.\n",
    "tree_util.tree_leaves([\n",
    "    MyOtherContainer('Alice', 1, 2, 3),\n",
    "    MyOtherContainer('Bob', 4, 5, 6)\n",
    "])"
   ]
  }
 ],
 "metadata": {
  "kernelspec": {
   "display_name": "pyscf_isdf",
   "language": "python",
   "name": "python3"
  },
  "language_info": {
   "codemirror_mode": {
    "name": "ipython",
    "version": 3
   },
   "file_extension": ".py",
   "mimetype": "text/x-python",
   "name": "python",
   "nbconvert_exporter": "python",
   "pygments_lexer": "ipython3",
   "version": "3.10.13"
  }
 },
 "nbformat": 4,
 "nbformat_minor": 2
}
